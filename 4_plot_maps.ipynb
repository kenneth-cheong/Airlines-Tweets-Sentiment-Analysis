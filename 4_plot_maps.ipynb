{
 "cells": [
  {
   "cell_type": "markdown",
   "metadata": {},
   "source": [
    "<a id=\"map\"></a>\n",
    "## Plot Tweet locations on a Map "
   ]
  },
  {
   "cell_type": "code",
   "execution_count": 1,
   "metadata": {},
   "outputs": [],
   "source": [
    "import pandas as pd\n",
    "pd.set_option('display.max_colwidth', -1)\n",
    "import numpy as np\n",
    "import matplotlib.pyplot as plt\n",
    "import geopandas\n",
    "from geopy.geocoders import Nominatim"
   ]
  },
  {
   "cell_type": "code",
   "execution_count": 2,
   "metadata": {},
   "outputs": [],
   "source": [
    "airlines_keyworded = pd.read_csv('./data/airlines_keyworded.csv')\n",
    "\n",
    "airlines_keyworded.drop(['Unnamed: 0','Unnamed: 0.1'],axis=1,inplace=True)"
   ]
  },
  {
   "cell_type": "code",
   "execution_count": 3,
   "metadata": {},
   "outputs": [],
   "source": [
    "def get_coord_lat(place):\n",
    "    geolocator = Nominatim(user_agent='myapplication',timeout=None)\n",
    "    location = geolocator.geocode(place)\n",
    "    if location != None:\n",
    "        return location.raw['lat']\n",
    "\n",
    "def get_coord_lon(place):\n",
    "    geolocator = Nominatim(user_agent='myapplication',timeout=None)\n",
    "    location = geolocator.geocode(place)\n",
    "    if location != None:\n",
    "        return location.raw['lon']"
   ]
  },
  {
   "cell_type": "code",
   "execution_count": 4,
   "metadata": {},
   "outputs": [
    {
     "data": {
      "text/plain": [
       "'1.28572965'"
      ]
     },
     "execution_count": 4,
     "metadata": {},
     "output_type": "execute_result"
    }
   ],
   "source": [
    "get_coord_lat ('merlion park singapore')"
   ]
  },
  {
   "cell_type": "code",
   "execution_count": null,
   "metadata": {},
   "outputs": [
    {
     "data": {
      "text/plain": [
       "'103.854207036822'"
      ]
     },
     "execution_count": 5,
     "metadata": {},
     "output_type": "execute_result"
    }
   ],
   "source": [
    "get_coord_lon('merlion park singapore')"
   ]
  },
  {
   "cell_type": "code",
   "execution_count": null,
   "metadata": {},
   "outputs": [],
   "source": [
    "# Create two lists for the loop results to be placed\n",
    "lat = []\n",
    "lon = []\n",
    "\n",
    "# For each row in a varible,\n",
    "for row in airlines_keyworded['tweet_coord']:\n",
    "    # Try to,\n",
    "    try:\n",
    "        # Split the row by comma and append\n",
    "        # everything before the comma to lat\n",
    "        lat.append(row.split(',')[0])\n",
    "        # Split the row by comma and append\n",
    "        # everything after the comma to lon\n",
    "        lon.append(row.split(',')[1])\n",
    "    # But if you get an error\n",
    "    except:\n",
    "        # append a missing value to lat\n",
    "        lat.append(np.NaN)\n",
    "        # append a missing value to lon\n",
    "        lon.append(np.NaN)\n",
    "\n",
    "airlines_keyworded.loc[:,'latitude']= lat\n",
    "airlines_keyworded.loc[:,'longitude']= lon\n",
    "\n",
    "airlines_keyworded.loc[:,'latitude'] = airlines_keyworded.loc[:,'latitude'].str.strip('[')\n",
    "airlines_keyworded.loc[:,'longitude'] = airlines_keyworded.loc[:,'longitude'].str.strip(']')\n",
    "\n",
    "airlines_keyworded.loc[:,'latitude'] = airlines_keyworded.loc[:,'latitude'].str.strip(' [')\n",
    "airlines_keyworded.loc[:,'longitude'] = airlines_keyworded.loc[:,'longitude'].str.strip(']}')\n",
    "\n",
    "airlines_keyworded.loc[:,'latitude'] = airlines_keyworded.loc[:,'latitude'].astype(float).fillna(0.0)\n",
    "airlines_keyworded.loc[:,'longitude'] = airlines_keyworded.loc[:,'longitude'].astype(float).fillna(0.0)"
   ]
  },
  {
   "cell_type": "code",
   "execution_count": null,
   "metadata": {},
   "outputs": [
    {
     "name": "stderr",
     "output_type": "stream",
     "text": [
      "/anaconda3/lib/python3.7/site-packages/ipykernel_launcher.py:1: SettingWithCopyWarning: \n",
      "A value is trying to be set on a copy of a slice from a DataFrame.\n",
      "Try using .loc[row_indexer,col_indexer] = value instead\n",
      "\n",
      "See the caveats in the documentation: http://pandas.pydata.org/pandas-docs/stable/indexing.html#indexing-view-versus-copy\n",
      "  \"\"\"Entry point for launching an IPython kernel.\n"
     ]
    }
   ],
   "source": [
    "airlines_keyworded[airlines_keyworded.loc[:,'latitude']==0.0]['latitude'] = airlines_keyworded.loc[:,'tweet_location'].apply(get_coord_lat)"
   ]
  },
  {
   "cell_type": "code",
   "execution_count": null,
   "metadata": {},
   "outputs": [],
   "source": [
    "airlines_keyworded[airlines_keyworded.loc[:,'longitude']==0.0]['longitude'] = airlines_keyworded.loc[:,'tweet_location'].apply(get_coord_lon)"
   ]
  },
  {
   "cell_type": "code",
   "execution_count": null,
   "metadata": {},
   "outputs": [],
   "source": [
    "airlines_keyworded[airlines_keyworded.loc[:,'longitude']==0.0]"
   ]
  },
  {
   "cell_type": "code",
   "execution_count": null,
   "metadata": {},
   "outputs": [],
   "source": [
    "airlines_keyworded.to_csv('./data/airlines_coordinates.csv')\n",
    "\n",
    "airlines = pd.read_csv('./data/airlines_coordinates.csv')"
   ]
  },
  {
   "cell_type": "code",
   "execution_count": null,
   "metadata": {},
   "outputs": [],
   "source": [
    "usa_only = airlines[(airlines.loc[:,'latitude'] >= 20)&(airlines.loc[:,'latitude'] <= 50)&(airlines.loc[:,'longitude'] <= -65)&(airlines.loc[:,'longitude'] >= -130)]\n",
    "\n",
    "staff = usa_only[usa_only['keywords'].str.contains('staff',regex=False)]\n",
    "delay = usa_only[usa_only['keywords'].str.contains('delay',regex=False)]\n",
    "ticketing = usa_only[usa_only['keywords'].str.contains('ticketing_billing',regex=False)]\n",
    "\n",
    "staff_coord = geopandas.GeoDataFrame(staff, geometry=geopandas.points_from_xy(staff.longitude, staff.latitude))\n",
    "delay_coord = geopandas.GeoDataFrame(delay, geometry=geopandas.points_from_xy(delay.longitude, delay.latitude))\n",
    "ticketing_coord = geopandas.GeoDataFrame(ticketing, geometry=geopandas.points_from_xy(ticketing.longitude, ticketing.latitude))"
   ]
  },
  {
   "cell_type": "code",
   "execution_count": null,
   "metadata": {},
   "outputs": [],
   "source": [
    "#for continental usa only\n",
    "usa_map = geopandas.read_file('./states_21basic/states.shp')\n",
    "usa_map = usa_map.loc[1:49,:]\n",
    "\n",
    "ax = usa_map.plot(color='grey', edgecolor='white',figsize=(30, 20))\n",
    "\n",
    "# We can now plot our GeoDataFrame.\n",
    "staff_coord.plot(ax=ax, color='red',label='Staff')\n",
    "delay_coord.plot(ax=ax, color='blue',label='Delays')\n",
    "ticketing_coord.plot(ax=ax, color='gold',label='Ticketing & Billing')\n",
    "plt.legend(prop={'size':15})\n",
    "\n",
    "plt.show()"
   ]
  },
  {
   "cell_type": "code",
   "execution_count": null,
   "metadata": {},
   "outputs": [],
   "source": []
  }
 ],
 "metadata": {
  "kernelspec": {
   "display_name": "Python 3",
   "language": "python",
   "name": "python3"
  },
  "language_info": {
   "codemirror_mode": {
    "name": "ipython",
    "version": 3
   },
   "file_extension": ".py",
   "mimetype": "text/x-python",
   "name": "python",
   "nbconvert_exporter": "python",
   "pygments_lexer": "ipython3",
   "version": "3.7.3"
  }
 },
 "nbformat": 4,
 "nbformat_minor": 2
}
