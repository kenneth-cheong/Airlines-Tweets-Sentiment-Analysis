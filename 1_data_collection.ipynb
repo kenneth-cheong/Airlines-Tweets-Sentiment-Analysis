{
 "cells": [
  {
   "cell_type": "code",
   "execution_count": 1,
   "metadata": {},
   "outputs": [],
   "source": [
    "#import libraries\n",
    "from twython import Twython\n",
    "import pandas as pd\n",
    "import json"
   ]
  },
  {
   "cell_type": "markdown",
   "metadata": {},
   "source": [
    "## Reading from Kaggle Dataset"
   ]
  },
  {
   "cell_type": "code",
   "execution_count": 2,
   "metadata": {},
   "outputs": [],
   "source": [
    "airlines = pd.read_csv(\"./data/Tweets.csv\")"
   ]
  },
  {
   "cell_type": "code",
   "execution_count": 3,
   "metadata": {},
   "outputs": [
    {
     "name": "stdout",
     "output_type": "stream",
     "text": [
      "<class 'pandas.core.frame.DataFrame'>\n",
      "RangeIndex: 14640 entries, 0 to 14639\n",
      "Data columns (total 15 columns):\n",
      "tweet_id                        14640 non-null int64\n",
      "airline_sentiment               14640 non-null object\n",
      "airline_sentiment_confidence    14640 non-null float64\n",
      "negativereason                  9178 non-null object\n",
      "negativereason_confidence       10522 non-null float64\n",
      "airline                         14640 non-null object\n",
      "airline_sentiment_gold          40 non-null object\n",
      "name                            14640 non-null object\n",
      "negativereason_gold             32 non-null object\n",
      "retweet_count                   14640 non-null int64\n",
      "text                            14640 non-null object\n",
      "tweet_coord                     1019 non-null object\n",
      "tweet_created                   14640 non-null object\n",
      "tweet_location                  9907 non-null object\n",
      "user_timezone                   9820 non-null object\n",
      "dtypes: float64(2), int64(2), object(11)\n",
      "memory usage: 1.7+ MB\n"
     ]
    }
   ],
   "source": [
    "airlines.info()"
   ]
  },
  {
   "cell_type": "code",
   "execution_count": 4,
   "metadata": {},
   "outputs": [
    {
     "data": {
      "text/html": [
       "<div>\n",
       "<style scoped>\n",
       "    .dataframe tbody tr th:only-of-type {\n",
       "        vertical-align: middle;\n",
       "    }\n",
       "\n",
       "    .dataframe tbody tr th {\n",
       "        vertical-align: top;\n",
       "    }\n",
       "\n",
       "    .dataframe thead th {\n",
       "        text-align: right;\n",
       "    }\n",
       "</style>\n",
       "<table border=\"1\" class=\"dataframe\">\n",
       "  <thead>\n",
       "    <tr style=\"text-align: right;\">\n",
       "      <th></th>\n",
       "      <th>tweet_id</th>\n",
       "      <th>airline_sentiment</th>\n",
       "      <th>airline_sentiment_confidence</th>\n",
       "      <th>negativereason</th>\n",
       "      <th>negativereason_confidence</th>\n",
       "      <th>airline</th>\n",
       "      <th>airline_sentiment_gold</th>\n",
       "      <th>name</th>\n",
       "      <th>negativereason_gold</th>\n",
       "      <th>retweet_count</th>\n",
       "      <th>text</th>\n",
       "      <th>tweet_coord</th>\n",
       "      <th>tweet_created</th>\n",
       "      <th>tweet_location</th>\n",
       "      <th>user_timezone</th>\n",
       "    </tr>\n",
       "  </thead>\n",
       "  <tbody>\n",
       "    <tr>\n",
       "      <th>0</th>\n",
       "      <td>570306133677760513</td>\n",
       "      <td>neutral</td>\n",
       "      <td>1.0000</td>\n",
       "      <td>NaN</td>\n",
       "      <td>NaN</td>\n",
       "      <td>Virgin America</td>\n",
       "      <td>NaN</td>\n",
       "      <td>cairdin</td>\n",
       "      <td>NaN</td>\n",
       "      <td>0</td>\n",
       "      <td>@VirginAmerica What @dhepburn said.</td>\n",
       "      <td>NaN</td>\n",
       "      <td>2015-02-24 11:35:52 -0800</td>\n",
       "      <td>NaN</td>\n",
       "      <td>Eastern Time (US &amp; Canada)</td>\n",
       "    </tr>\n",
       "    <tr>\n",
       "      <th>1</th>\n",
       "      <td>570301130888122368</td>\n",
       "      <td>positive</td>\n",
       "      <td>0.3486</td>\n",
       "      <td>NaN</td>\n",
       "      <td>0.0000</td>\n",
       "      <td>Virgin America</td>\n",
       "      <td>NaN</td>\n",
       "      <td>jnardino</td>\n",
       "      <td>NaN</td>\n",
       "      <td>0</td>\n",
       "      <td>@VirginAmerica plus you've added commercials t...</td>\n",
       "      <td>NaN</td>\n",
       "      <td>2015-02-24 11:15:59 -0800</td>\n",
       "      <td>NaN</td>\n",
       "      <td>Pacific Time (US &amp; Canada)</td>\n",
       "    </tr>\n",
       "    <tr>\n",
       "      <th>2</th>\n",
       "      <td>570301083672813571</td>\n",
       "      <td>neutral</td>\n",
       "      <td>0.6837</td>\n",
       "      <td>NaN</td>\n",
       "      <td>NaN</td>\n",
       "      <td>Virgin America</td>\n",
       "      <td>NaN</td>\n",
       "      <td>yvonnalynn</td>\n",
       "      <td>NaN</td>\n",
       "      <td>0</td>\n",
       "      <td>@VirginAmerica I didn't today... Must mean I n...</td>\n",
       "      <td>NaN</td>\n",
       "      <td>2015-02-24 11:15:48 -0800</td>\n",
       "      <td>Lets Play</td>\n",
       "      <td>Central Time (US &amp; Canada)</td>\n",
       "    </tr>\n",
       "    <tr>\n",
       "      <th>3</th>\n",
       "      <td>570301031407624196</td>\n",
       "      <td>negative</td>\n",
       "      <td>1.0000</td>\n",
       "      <td>Bad Flight</td>\n",
       "      <td>0.7033</td>\n",
       "      <td>Virgin America</td>\n",
       "      <td>NaN</td>\n",
       "      <td>jnardino</td>\n",
       "      <td>NaN</td>\n",
       "      <td>0</td>\n",
       "      <td>@VirginAmerica it's really aggressive to blast...</td>\n",
       "      <td>NaN</td>\n",
       "      <td>2015-02-24 11:15:36 -0800</td>\n",
       "      <td>NaN</td>\n",
       "      <td>Pacific Time (US &amp; Canada)</td>\n",
       "    </tr>\n",
       "    <tr>\n",
       "      <th>4</th>\n",
       "      <td>570300817074462722</td>\n",
       "      <td>negative</td>\n",
       "      <td>1.0000</td>\n",
       "      <td>Can't Tell</td>\n",
       "      <td>1.0000</td>\n",
       "      <td>Virgin America</td>\n",
       "      <td>NaN</td>\n",
       "      <td>jnardino</td>\n",
       "      <td>NaN</td>\n",
       "      <td>0</td>\n",
       "      <td>@VirginAmerica and it's a really big bad thing...</td>\n",
       "      <td>NaN</td>\n",
       "      <td>2015-02-24 11:14:45 -0800</td>\n",
       "      <td>NaN</td>\n",
       "      <td>Pacific Time (US &amp; Canada)</td>\n",
       "    </tr>\n",
       "  </tbody>\n",
       "</table>\n",
       "</div>"
      ],
      "text/plain": [
       "             tweet_id airline_sentiment  airline_sentiment_confidence  \\\n",
       "0  570306133677760513           neutral                        1.0000   \n",
       "1  570301130888122368          positive                        0.3486   \n",
       "2  570301083672813571           neutral                        0.6837   \n",
       "3  570301031407624196          negative                        1.0000   \n",
       "4  570300817074462722          negative                        1.0000   \n",
       "\n",
       "  negativereason  negativereason_confidence         airline  \\\n",
       "0            NaN                        NaN  Virgin America   \n",
       "1            NaN                     0.0000  Virgin America   \n",
       "2            NaN                        NaN  Virgin America   \n",
       "3     Bad Flight                     0.7033  Virgin America   \n",
       "4     Can't Tell                     1.0000  Virgin America   \n",
       "\n",
       "  airline_sentiment_gold        name negativereason_gold  retweet_count  \\\n",
       "0                    NaN     cairdin                 NaN              0   \n",
       "1                    NaN    jnardino                 NaN              0   \n",
       "2                    NaN  yvonnalynn                 NaN              0   \n",
       "3                    NaN    jnardino                 NaN              0   \n",
       "4                    NaN    jnardino                 NaN              0   \n",
       "\n",
       "                                                text tweet_coord  \\\n",
       "0                @VirginAmerica What @dhepburn said.         NaN   \n",
       "1  @VirginAmerica plus you've added commercials t...         NaN   \n",
       "2  @VirginAmerica I didn't today... Must mean I n...         NaN   \n",
       "3  @VirginAmerica it's really aggressive to blast...         NaN   \n",
       "4  @VirginAmerica and it's a really big bad thing...         NaN   \n",
       "\n",
       "               tweet_created tweet_location               user_timezone  \n",
       "0  2015-02-24 11:35:52 -0800            NaN  Eastern Time (US & Canada)  \n",
       "1  2015-02-24 11:15:59 -0800            NaN  Pacific Time (US & Canada)  \n",
       "2  2015-02-24 11:15:48 -0800      Lets Play  Central Time (US & Canada)  \n",
       "3  2015-02-24 11:15:36 -0800            NaN  Pacific Time (US & Canada)  \n",
       "4  2015-02-24 11:14:45 -0800            NaN  Pacific Time (US & Canada)  "
      ]
     },
     "execution_count": 4,
     "metadata": {},
     "output_type": "execute_result"
    }
   ],
   "source": [
    "airlines.head()"
   ]
  },
  {
   "cell_type": "markdown",
   "metadata": {},
   "source": [
    "<a id=\"United-Airlines-tweets\"></a>\n",
    "## Use only United Airlines tweets"
   ]
  },
  {
   "cell_type": "code",
   "execution_count": 5,
   "metadata": {},
   "outputs": [
    {
     "name": "stdout",
     "output_type": "stream",
     "text": [
      "<class 'pandas.core.frame.DataFrame'>\n",
      "Int64Index: 3822 entries, 504 to 4325\n",
      "Data columns (total 15 columns):\n",
      "tweet_id                        3822 non-null int64\n",
      "airline_sentiment               3822 non-null object\n",
      "airline_sentiment_confidence    3822 non-null float64\n",
      "negativereason                  2633 non-null object\n",
      "negativereason_confidence       3000 non-null float64\n",
      "airline                         3822 non-null object\n",
      "airline_sentiment_gold          8 non-null object\n",
      "name                            3822 non-null object\n",
      "negativereason_gold             7 non-null object\n",
      "retweet_count                   3822 non-null int64\n",
      "text                            3822 non-null object\n",
      "tweet_coord                     319 non-null object\n",
      "tweet_created                   3822 non-null object\n",
      "tweet_location                  2633 non-null object\n",
      "user_timezone                   2527 non-null object\n",
      "dtypes: float64(2), int64(2), object(11)\n",
      "memory usage: 477.8+ KB\n"
     ]
    }
   ],
   "source": [
    "# only United Airlines related tweets\n",
    "airlines = airlines[airlines['airline'] == 'United']\n",
    "airlines.info()"
   ]
  },
  {
   "cell_type": "code",
   "execution_count": 6,
   "metadata": {},
   "outputs": [],
   "source": [
    "airlines.reset_index(drop=True,inplace=True)"
   ]
  },
  {
   "cell_type": "code",
   "execution_count": 7,
   "metadata": {},
   "outputs": [
    {
     "data": {
      "text/plain": [
       "Index(['text', 'tweet_coord', 'tweet_created', 'tweet_location'], dtype='object')"
      ]
     },
     "execution_count": 7,
     "metadata": {},
     "output_type": "execute_result"
    }
   ],
   "source": [
    "airlines.drop(['airline','name','airline_sentiment','tweet_id','airline_sentiment_gold','retweet_count','airline_sentiment_confidence','negativereason',\n",
    "       'negativereason_confidence','negativereason_gold','user_timezone'],axis=1,inplace=True)\n",
    "airlines.columns"
   ]
  },
  {
   "cell_type": "markdown",
   "metadata": {},
   "source": [
    "## Using Twitter API to collect additional Tweets"
   ]
  },
  {
   "cell_type": "code",
   "execution_count": 8,
   "metadata": {},
   "outputs": [],
   "source": [
    "# Enter your keys/secrets as strings in the following fields\n",
    "#credentials = {}  \n",
    "#credentials['CONSUMER_KEY'] = \"\" \n",
    "#credentials['CONSUMER_SECRET'] = \"\" \n",
    "#credentials['ACCESS_TOKEN'] = \"\"  \n",
    "#credentials['ACCESS_SECRET'] = \"\"\n",
    "\n",
    "# Save the credentials object to file\n",
    "#with open(\"twitter_credentials.json\", \"w\") as file:  \n",
    "#    json.dump(credentials, file)"
   ]
  },
  {
   "cell_type": "code",
   "execution_count": 9,
   "metadata": {},
   "outputs": [],
   "source": [
    "# Load credentials from json file\n",
    "with open(\"../capstone_extras/twitter_credentials.json\", \"r\") as file:  \n",
    "    creds = json.load(file)\n",
    "\n",
    "# Instantiate an object\n",
    "python_tweets = Twython(creds['CONSUMER_KEY'], creds['CONSUMER_SECRET'])\n",
    "\n",
    "# Create query\n",
    "query = {'q': 'united airlines',  \n",
    "        'result_type': 'mixed',\n",
    "        'count': 1000,\n",
    "        'until': '2019-08-16',\n",
    "        'lang': 'en',\n",
    "        }"
   ]
  },
  {
   "cell_type": "code",
   "execution_count": 10,
   "metadata": {},
   "outputs": [],
   "source": [
    "# Search tweets\n",
    "dict_ = {'user': [], 'date': [], 'text': [], 'location': [],'coordinates': []}  \n",
    "for status in python_tweets.search(**query)['statuses']:  \n",
    "    dict_['user'].append(status['user']['screen_name'])\n",
    "    dict_['date'].append(status['created_at'])\n",
    "    dict_['text'].append(status['text'])\n",
    "    dict_['coordinates'].append(status['coordinates'])\n",
    "    dict_['location'].append(status['user']['location'])\n",
    "\n",
    "# Structure data in a pandas DataFrame for easier manipulation\n",
    "df = pd.DataFrame(dict_)  \n",
    "df.to_csv(\"./data/15aug.csv\")"
   ]
  },
  {
   "cell_type": "code",
   "execution_count": 11,
   "metadata": {},
   "outputs": [],
   "source": [
    "jun17 = pd.read_csv(\"./data/17jun.csv\")\n",
    "jun18 = pd.read_csv(\"./data/18jun.csv\")\n",
    "jun19 = pd.read_csv(\"./data/19jun.csv\")\n",
    "jun20 = pd.read_csv(\"./data/20jun.csv\")\n",
    "jun21 = pd.read_csv(\"./data/21jun.csv\")\n",
    "jun22 = pd.read_csv(\"./data/22jun.csv\")\n",
    "jun23 = pd.read_csv(\"./data/23jun.csv\")\n",
    "jun24 = pd.read_csv(\"./data/24jun.csv\")\n",
    "jun25 = pd.read_csv(\"./data/25jun.csv\")\n",
    "jun26 = pd.read_csv(\"./data/26jun.csv\")\n",
    "jun27 = pd.read_csv(\"./data/27jun.csv\")\n",
    "jun28 = pd.read_csv(\"./data/28jun.csv\")\n",
    "jun29 = pd.read_csv(\"./data/29jun.csv\")\n",
    "jun30 = pd.read_csv(\"./data/30jun.csv\")\n",
    "jul01 = pd.read_csv(\"./data/01jul.csv\")\n",
    "jul02 = pd.read_csv(\"./data/02jul.csv\")\n",
    "jul03 = pd.read_csv(\"./data/03jul.csv\")\n",
    "jul04 = pd.read_csv(\"./data/04jul.csv\")\n",
    "jul05 = pd.read_csv(\"./data/05jul.csv\")\n",
    "jul06 = pd.read_csv(\"./data/06jul.csv\")\n",
    "jul07 = pd.read_csv(\"./data/07jul.csv\")\n",
    "jul08 = pd.read_csv(\"./data/08jul.csv\")\n",
    "jul09 = pd.read_csv(\"./data/09jul.csv\")\n",
    "jul10 = pd.read_csv(\"./data/10jul.csv\")\n",
    "jul11 = pd.read_csv(\"./data/11jul.csv\")\n",
    "jul12 = pd.read_csv(\"./data/12jul.csv\")\n",
    "jul13 = pd.read_csv(\"./data/13jul.csv\")\n",
    "jul14 = pd.read_csv(\"./data/14jul.csv\")\n",
    "jul15 = pd.read_csv(\"./data/15jul.csv\")\n",
    "jul16 = pd.read_csv(\"./data/16jul.csv\")\n",
    "jul17 = pd.read_csv(\"./data/17jul.csv\")\n",
    "jul18 = pd.read_csv(\"./data/18jul.csv\")\n",
    "jul19 = pd.read_csv(\"./data/19jul.csv\")\n",
    "jul20 = pd.read_csv(\"./data/20jul.csv\")\n",
    "jul21 = pd.read_csv(\"./data/21jul.csv\")\n",
    "jul22 = pd.read_csv(\"./data/22jul.csv\")\n",
    "jul23 = pd.read_csv(\"./data/23jul.csv\")\n",
    "jul24 = pd.read_csv(\"./data/24jul.csv\")\n",
    "jul25 = pd.read_csv(\"./data/25jul.csv\")\n",
    "jul26 = pd.read_csv(\"./data/26jul.csv\")\n",
    "jul27 = pd.read_csv(\"./data/27jul.csv\")\n",
    "jul28 = pd.read_csv(\"./data/28jul.csv\")\n",
    "jul29 = pd.read_csv(\"./data/29jul.csv\")\n",
    "jul30 = pd.read_csv(\"./data/30jul.csv\")\n",
    "jul31 = pd.read_csv(\"./data/31jul.csv\")\n",
    "aug08 = pd.read_csv(\"./data/08aug.csv\")\n",
    "aug09 = pd.read_csv(\"./data/09aug.csv\")\n",
    "aug10 = pd.read_csv(\"./data/10aug.csv\")\n",
    "aug11 = pd.read_csv(\"./data/11aug.csv\")\n",
    "aug12 = pd.read_csv(\"./data/12aug.csv\")\n",
    "aug13 = pd.read_csv(\"./data/13aug.csv\")\n",
    "aug14 = pd.read_csv(\"./data/14aug.csv\")\n",
    "aug15 = pd.read_csv(\"./data/15aug.csv\")\n",
    "\n",
    "\n",
    "scraped_twitter = pd.concat([jun17,jun18,jun19,jun20,jun21,jun22,jun23,jun24,\n",
    "                             jun25,jun26,jun27,jun28,jun29,jun30,jul01,jul02,\n",
    "                             jul03,jul04,jul05,jul06,jul07,jul08,jul09,jul10,\n",
    "                             jul11,jul12,jul13,jul14,jul15,jul16,jul17,jul18,\n",
    "                             jul19,jul20,jul21,jul22,jul23,jul24,jul25,jul26,\n",
    "                             jul27,jul28,jul29,jul30,jul31,aug08,aug09,aug10,\n",
    "                             aug11,aug12,aug13,aug14,aug15])\n",
    "\n",
    "scraped_twitter.drop_duplicates(keep='first', inplace=True)\n",
    "\n",
    "scraped_twitter.to_csv(\"./data/scraped_twitter.csv\")"
   ]
  },
  {
   "cell_type": "markdown",
   "metadata": {},
   "source": [
    "## Cleaning Scrapped Tweets"
   ]
  },
  {
   "cell_type": "code",
   "execution_count": 12,
   "metadata": {},
   "outputs": [],
   "source": [
    "scraped_twitter = pd.read_csv(\"./data/scraped_twitter.csv\")"
   ]
  },
  {
   "cell_type": "code",
   "execution_count": 13,
   "metadata": {},
   "outputs": [],
   "source": [
    "#remove advertisements and news agencies\n",
    "scraped_twitter = scraped_twitter[~scraped_twitter['user'].isin(['robinsnewswire','FRANCIS39781980','Frommers','CBCAlerts','USATODAY',\n",
    "                                               'chicagotribune','ChiBizJournal','RunRocknRoll','TJN_Jobs','JacksonAirports',\n",
    "                                               'DailyBugleJJJ','DealDuchess','OverseasFID','GetGlobalTravel','SebasSpotter']\n",
    "                                             )].sort_values(by=['text'])"
   ]
  },
  {
   "cell_type": "code",
   "execution_count": 14,
   "metadata": {},
   "outputs": [],
   "source": [
    "scraped_twitter.drop('Unnamed: 0.1', axis=1,inplace=True)\n",
    "scraped_twitter.drop('Unnamed: 0', axis=1,inplace=True)"
   ]
  },
  {
   "cell_type": "code",
   "execution_count": 15,
   "metadata": {},
   "outputs": [],
   "source": [
    "scraped_twitter.columns = ['user','tweet_created','text','tweet_location','tweet_coord']\n",
    "scraped_twitter.drop('user',axis=1,inplace=True)\n",
    "\n",
    "#isolate coordinates\n",
    "scraped_twitter['tweet_coord'].replace(to_replace = \"{'type': 'Point', 'coordinates':\", value = \"\", inplace = True, regex = True)"
   ]
  },
  {
   "cell_type": "code",
   "execution_count": 16,
   "metadata": {},
   "outputs": [],
   "source": [
    "airlines = pd.concat([airlines,scraped_twitter],sort=False)\n",
    "airlines.reset_index(drop=True,inplace=True)"
   ]
  },
  {
   "cell_type": "code",
   "execution_count": 17,
   "metadata": {},
   "outputs": [],
   "source": [
    "#remove line splitters\n",
    "airlines['text'].replace(to_replace='\\n', value= ' ', inplace = True, regex = True)\n",
    "\n",
    "#remove @tags\n",
    "airlines['text'].replace(to_replace=r\"(@[A-Za-z0-9]+)|([^0-9A-Za-z \\t])|(\\w+:\\/\\/\\S+)\", value = '', inplace = True, regex = True)\n",
    "\n",
    "#remove 'RT'\n",
    "airlines['text'].replace(to_replace='RT', value= '', inplace = True, regex = True)\n",
    "\n",
    "# remove urls\n",
    "airlines['text'].replace(to_replace=r\"http*.*\",value='',regex=True, inplace=True)\n",
    "\n",
    "# remove duplicates\n",
    "airlines.drop_duplicates(subset =\"text\", keep = 'first', inplace = True)"
   ]
  },
  {
   "cell_type": "code",
   "execution_count": 18,
   "metadata": {},
   "outputs": [],
   "source": [
    "airlines.to_csv('./data/collected_data.csv')"
   ]
  },
  {
   "cell_type": "code",
   "execution_count": 19,
   "metadata": {},
   "outputs": [
    {
     "name": "stdout",
     "output_type": "stream",
     "text": [
      "<class 'pandas.core.frame.DataFrame'>\n",
      "Int64Index: 6610 entries, 0 to 8320\n",
      "Data columns (total 4 columns):\n",
      "text              6610 non-null object\n",
      "tweet_coord       340 non-null object\n",
      "tweet_created     6610 non-null object\n",
      "tweet_location    4623 non-null object\n",
      "dtypes: object(4)\n",
      "memory usage: 258.2+ KB\n"
     ]
    }
   ],
   "source": [
    "airlines.info()"
   ]
  },
  {
   "cell_type": "code",
   "execution_count": null,
   "metadata": {},
   "outputs": [],
   "source": []
  }
 ],
 "metadata": {
  "kernelspec": {
   "display_name": "Python 3",
   "language": "python",
   "name": "python3"
  },
  "language_info": {
   "codemirror_mode": {
    "name": "ipython",
    "version": 3
   },
   "file_extension": ".py",
   "mimetype": "text/x-python",
   "name": "python",
   "nbconvert_exporter": "python",
   "pygments_lexer": "ipython3",
   "version": "3.7.3"
  }
 },
 "nbformat": 4,
 "nbformat_minor": 2
}
